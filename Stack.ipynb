{
 "cells": [
  {
   "cell_type": "markdown",
   "metadata": {},
   "source": [
    "### 1.数组实现堆栈"
   ]
  },
  {
   "cell_type": "code",
   "execution_count": 10,
   "metadata": {},
   "outputs": [],
   "source": [
    "#stack by array\n",
    "class ArrayStack():\n",
    "    def __init__(self,n:int):  \n",
    "        #初始化堆栈大小\n",
    "        self.data = [None]*n  # 数组的大小\n",
    "        self.count = 0  # 堆栈的数量\n",
    "        self.n = n   # 初始堆栈的大小\n",
    "    def push(self,item)->bool:  # 限定函数结果只能是bool\n",
    "        #将对应的值打入栈顶\n",
    "        if self.count == self.n: # 数组长度不够，添加失败\n",
    "            return False\n",
    "        self.data[self.count] = item # 数组长度够，直接添加在数组最后位置\n",
    "        self.count += 1\n",
    "        return True\n",
    "    def pop(self):\n",
    "        #返回栈顶的值\n",
    "        if self.count == 0:\n",
    "            return None\n",
    "        temp = self.data[self.count-1] \n",
    "        self.count -= 1\n",
    "        return temp\n",
    "    def __str__(self): \n",
    "        #用于遍历堆栈中的全部元素\n",
    "        return str(self.data[:self.count])"
   ]
  },
  {
   "cell_type": "code",
   "execution_count": 11,
   "metadata": {},
   "outputs": [
    {
     "name": "stdout",
     "output_type": "stream",
     "text": [
      "[1, 2]\n",
      "2\n",
      "1\n"
     ]
    }
   ],
   "source": [
    "#test1\n",
    "arrStack = ArrayStack(5)\n",
    "arrStack.push(1)\n",
    "arrStack.push(2)\n",
    "print(arrStack.__str__())\n",
    "print(arrStack.pop())\n",
    "print(arrStack.pop())"
   ]
  },
  {
   "cell_type": "markdown",
   "metadata": {},
   "source": [
    "### 2.链表实现堆栈"
   ]
  },
  {
   "cell_type": "code",
   "execution_count": 8,
   "metadata": {},
   "outputs": [],
   "source": [
    "class Node(object):\n",
    "    def __init__(self,data):\n",
    "        self.item = data\n",
    "        self.next = None\n",
    "        \n",
    "class LinkedStack:\n",
    "    def __init__(self):\n",
    "        self.top = Node(None)\n",
    "    def push(self,value):\n",
    "        #添加元素\n",
    "        new_top = Node(value)\n",
    "        new_top.next = self.top\n",
    "        self.top = new_top\n",
    "        return True\n",
    "    def pop(self)->int:\n",
    "        #弹出栈顶元素\n",
    "        old_top = self.top\n",
    "        old_top_data = old_top.item\n",
    "        self.top = old_top.next\n",
    "        print(old_top_data)\n",
    "        \n",
    "    def __str__ (self)->str:\n",
    "        values = []\n",
    "        p:Node = self.top\n",
    "        while p.item!=None:\n",
    "            values.append(str(p.item))\n",
    "            p = p.next\n",
    "        return \" \".join(values)"
   ]
  },
  {
   "cell_type": "code",
   "execution_count": 9,
   "metadata": {},
   "outputs": [
    {
     "name": "stdout",
     "output_type": "stream",
     "text": [
      "2 1\n",
      "2\n"
     ]
    }
   ],
   "source": [
    "#test2\n",
    "if __name__ == '__main__':\n",
    "    listStack = LinkedStack()\n",
    "    listStack.push(1)\n",
    "    listStack.push(2)\n",
    "    print(listStack.__str__())\n",
    "    listStack.pop()"
   ]
  },
  {
   "cell_type": "markdown",
   "metadata": {},
   "source": [
    "### 括号匹配问题"
   ]
  },
  {
   "cell_type": "code",
   "execution_count": 4,
   "metadata": {},
   "outputs": [],
   "source": [
    "def cheak_brace(s):\n",
    "    \"\"\"\n",
    "    栈应用，括号匹配问题\n",
    "    param: s 需要判断的字符串\n",
    "    return : 匹配返回True,不匹配False\n",
    "    \"\"\"\n",
    "    stack = []\n",
    "    for char in s :\n",
    "        if char in \"([{\":\n",
    "            stack.append(char)\n",
    "        elif char == \")\":\n",
    "            if len(stack) > 0 and stack[-1] == \"(\":\n",
    "                stack.pop()\n",
    "            else:\n",
    "                return False\n",
    "        elif char == \"]\":\n",
    "            if len(stack) > 0 and stack[-1] == \"[\":\n",
    "                stack.pop()\n",
    "            else:\n",
    "                return False\n",
    "        elif char == \"}\":\n",
    "            if len(stack) > 0 and stack[-1] == \"{\":\n",
    "                stack.pop()\n",
    "            else:\n",
    "                return False\n",
    "            \n",
    "    if len(stack) == 0:\n",
    "        return True\n",
    "    else:\n",
    "        return False"
   ]
  },
  {
   "cell_type": "code",
   "execution_count": 5,
   "metadata": {},
   "outputs": [
    {
     "name": "stdout",
     "output_type": "stream",
     "text": [
      "False\n",
      "True\n"
     ]
    }
   ],
   "source": [
    "if __name__ == '__main__':\n",
    "    print(cheak_brace(\"(({}[))\"))       # 输出False，不匹配\n",
    "    print(cheak_brace(\"(({}[]))\"))      # 输出True，匹配"
   ]
  },
  {
   "cell_type": "code",
   "execution_count": null,
   "metadata": {},
   "outputs": [],
   "source": []
  }
 ],
 "metadata": {
  "kernelspec": {
   "display_name": "Python 3",
   "language": "python",
   "name": "python3"
  },
  "language_info": {
   "codemirror_mode": {
    "name": "ipython",
    "version": 3
   },
   "file_extension": ".py",
   "mimetype": "text/x-python",
   "name": "python",
   "nbconvert_exporter": "python",
   "pygments_lexer": "ipython3",
   "version": "3.7.3"
  }
 },
 "nbformat": 4,
 "nbformat_minor": 2
}
