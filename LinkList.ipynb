{
 "cells": [
  {
   "cell_type": "code",
   "execution_count": 1,
   "metadata": {},
   "outputs": [],
   "source": [
    "#链表的几种操作\n",
    "#定义链表\n",
    "class ListNode(object):\n",
    "    def __init__(self,val,next_node = None):\n",
    "        self.val = val\n",
    "        self.next = next_node"
   ]
  },
  {
   "cell_type": "code",
   "execution_count": 10,
   "metadata": {},
   "outputs": [],
   "source": [
    "def hasCycle(head):\n",
    "#        \"\"\"\n",
    "#        parameters: 无头指针的链表\n",
    "#        return: 返回是否有环\n",
    "#        \"\"\"\n",
    "    if head == None or head.next == None: \n",
    "        return False\n",
    "    slow = head\n",
    "    quick = head.next\n",
    "    while quick!=None:\n",
    "        if slow == quick:\n",
    "            return True\n",
    "        quick = quick.next\n",
    "        if quick == None:\n",
    "            return False\n",
    "        slow = slow.next\n",
    "        quick = quick.next\n",
    "    return False                "
   ]
  },
  {
   "cell_type": "code",
   "execution_count": 13,
   "metadata": {},
   "outputs": [
    {
     "name": "stdout",
     "output_type": "stream",
     "text": [
      "不存在环结构\n"
     ]
    }
   ],
   "source": [
    "#测试\n",
    "listNode1 = ListNode(1)\n",
    "listNode2 = ListNode(2)\n",
    "listNode3 = ListNode(3)\n",
    "listNode4 = ListNode(4)\n",
    "\n",
    "listNode1.next = listNode2\n",
    "listNode2.next = listNode3\n",
    "listNode3.next = listNode4\n",
    "# listNode4.next = listNode1\n",
    "if hasCycle(listNode1):\n",
    "    print('存在环')\n",
    "    print(hasCycle(listNode1))\n",
    "else:\n",
    "    print(\"不存在环结构\")"
   ]
  },
  {
   "cell_type": "code",
   "execution_count": null,
   "metadata": {},
   "outputs": [],
   "source": []
  }
 ],
 "metadata": {
  "kernelspec": {
   "display_name": "Python 3",
   "language": "python",
   "name": "python3"
  },
  "language_info": {
   "codemirror_mode": {
    "name": "ipython",
    "version": 3
   },
   "file_extension": ".py",
   "mimetype": "text/x-python",
   "name": "python",
   "nbconvert_exporter": "python",
   "pygments_lexer": "ipython3",
   "version": "3.7.3"
  }
 },
 "nbformat": 4,
 "nbformat_minor": 2
}
