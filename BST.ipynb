{
 "cells": [
  {
   "cell_type": "code",
   "execution_count": 52,
   "metadata": {},
   "outputs": [],
   "source": [
    "class Node:\n",
    "    \"\"\"\n",
    "    定义二叉树的节点\n",
    "    \"\"\"\n",
    "    __slots__ = '_item','_left','_right' #一个类中需要创建多个变量时可以用\n",
    "    def __init__(self,item,left=None,right=None):\n",
    "        self._item = item\n",
    "        self._left = left\n",
    "        self._right = right\n",
    "class BinarySearchTree:\n",
    "    \"\"\"\n",
    "    定义二叉搜索树的各种操作\n",
    "    \"\"\"\n",
    "    def __init__(self,root=None):\n",
    "        self._root = root\n",
    "    def get(self,key):\n",
    "        \"\"\"\n",
    "        params:\n",
    "            key - 待查找的值\n",
    "        Return:\n",
    "            获取这个树中的对应节点\n",
    "        \"\"\"\n",
    "        return self.__get(self._root,key)\n",
    "    def __get(self,node,key):\n",
    "        \"\"\"\n",
    "        helper - 确认数中是否右对应元素\n",
    "        params:\n",
    "            node - 树节点\n",
    "            key - 待查找的值\n",
    "        Return:\n",
    "            若右对应值，则返回对应值\n",
    "            若无则返回None\n",
    "        \"\"\"\n",
    "        if(node is None):\n",
    "            return None\n",
    "        if(key == node._item):\n",
    "            return node._item\n",
    "        if(key < node._item):\n",
    "            return self.__get(node._left,key)\n",
    "        else:\n",
    "            return self.__get(node._right,key)\n",
    "    def add(self,value):\n",
    "        \"\"\"\n",
    "        添加元素到树中\n",
    "        Params:\n",
    "            value - 待添加的值\n",
    "        Return:\n",
    "            无\n",
    "        \"\"\"\n",
    "        self._root = self.__add(self._root,value)\n",
    "    def __add(self,node,value):\n",
    "        \"\"\"\n",
    "        helper - 添加元素到树中\n",
    "        Params:\n",
    "            node - 待添加值的树\n",
    "            value - 待添加的值\n",
    "        Returns:\n",
    "            node - 添加完元素的新树\n",
    "        \"\"\"\n",
    "        if node is None:\n",
    "            return Node(value)\n",
    "        if value == node._item:\n",
    "            pass\n",
    "        else:\n",
    "            if value < node._item:\n",
    "                node._left = self.__add(node._left,value)\n",
    "            else:\n",
    "                node._right = self.__add(node._right,value)\n",
    "        return node    \n",
    "    def get_max(self):\n",
    "        \"\"\"\n",
    "        返回数中元素最大值\n",
    "        \"\"\"\n",
    "        return self.__get_max(self._root)\n",
    "    def __get_max(self,node):\n",
    "        \"\"\"\n",
    "        helper - 获取树元素最的的值\n",
    "        Params:\n",
    "            node - 待查找子树\n",
    "        \"\"\"\n",
    "    \n",
    "        if node is Node:\n",
    "            return None\n",
    "        while node._right is not None: #因为树中的最大值出现在树的右下角\n",
    "            node = node._right \n",
    "        return node._item\n",
    "    def remove(self,key):\n",
    "        \"\"\"\n",
    "        删除树中的对应元素\n",
    "        Params:\n",
    "            value - 待删除的值\n",
    "        Return:\n",
    "            无\n",
    "        \"\"\"\n",
    "        self._root = self.__remove(self._root,key)       \n",
    "    def __remove(self,node,key):\n",
    "        \"\"\"\n",
    "        helper - 删除树种的对应元素\n",
    "        Params:\n",
    "            node - 待删除值的树\n",
    "            value - 待删除的值\n",
    "        Returns:\n",
    "            node - 删除完元素的新树\n",
    "        \"\"\"\n",
    "        if node is None:\n",
    "            return None\n",
    "        if key < node._item:\n",
    "            node._left = self.__remove(node._left,key)\n",
    "        elif key > node._item:\n",
    "            node._right = self.__remove(node._right,key)\n",
    "        else: #想删除的节点落在根节点上的时候\n",
    "              #如果仅仅存在一颗子树，则返回对应子树即可\n",
    "            if node._left is None:   \n",
    "                node = node._right #仅存在右子树\n",
    "            elif node._right is None:\n",
    "                node = node_left #仅存在左子树\n",
    "            else: \n",
    "              #左右节点都存在的情况下，交换根节点的值变成左子树最大值\n",
    "                node._item = self.__get_max(node._left)\n",
    "                node._left = self.__remove(node._left,node._item)\n",
    "        return node\n",
    "    def PreOrder(self):\n",
    "        self.__PreOrder(self._root)\n",
    "        print(' ')\n",
    "    def __PreOrder(self,node):\n",
    "        \"\"\"\n",
    "        先序遍历\n",
    "        Params:\n",
    "            node - 需要遍历的树\n",
    "        return:\n",
    "            无 \n",
    "        \"\"\"\n",
    "        if node is None:\n",
    "            return None\n",
    "        print(node._item,end = \" \")\n",
    "        self.__PreOrder(node._left)\n",
    "        self.__PreOrder(node._right)\n",
    "    def InOrder(self):\n",
    "        self.__InOrder(self._root)\n",
    "        print(' ')\n",
    "    def __InOrder(self,node):\n",
    "        \"\"\"\n",
    "        中序遍历\n",
    "        Params:\n",
    "            node - 需要遍历的树\n",
    "        return:\n",
    "            无 \n",
    "        \"\"\"\n",
    "        if node is None:\n",
    "            return None\n",
    "        self.__InOrder(node._left)\n",
    "        print(node._item,end = \" \")\n",
    "        self.__InOrder(node._right)   \n",
    "    def PostOrder(self):\n",
    "        self.__PostOrder(self._root)\n",
    "        print(' ')\n",
    "    def __PostOrder(self,node):\n",
    "        \"\"\"\n",
    "        后序遍历\n",
    "        Params:\n",
    "            node - 需要遍历的树\n",
    "        return:\n",
    "            无 \n",
    "        \"\"\"\n",
    "        if node is None:\n",
    "            return None\n",
    "        self.__PostOrder(node._left)\n",
    "        self.__PostOrder(node._right)\n",
    "        print(node._item,end =\" \")   "
   ]
  },
  {
   "cell_type": "code",
   "execution_count": 53,
   "metadata": {},
   "outputs": [
    {
     "name": "stdout",
     "output_type": "stream",
     "text": [
      "6 4 2 1 3 5 8 7 9 13 11 10 12  \n"
     ]
    }
   ],
   "source": [
    "bst = BinarySearchTree()\n",
    "numbers = [6, 4, 8, 7, 9, 2, 1, 3, 5, 13, 11, 10, 12]\n",
    "for i in numbers:\n",
    "    bst.add(i)\n",
    "bst.PreOrder()"
   ]
  },
  {
   "cell_type": "code",
   "execution_count": 54,
   "metadata": {},
   "outputs": [
    {
     "name": "stdout",
     "output_type": "stream",
     "text": [
      "1 3 2 5 4 10 12 11 13 9 8 6  \n"
     ]
    }
   ],
   "source": [
    "bst.remove(7)\n",
    "bst.PostOrder()"
   ]
  },
  {
   "cell_type": "code",
   "execution_count": 55,
   "metadata": {},
   "outputs": [
    {
     "name": "stdout",
     "output_type": "stream",
     "text": [
      "1 2 3 4 5 6 8 9 10 11 12 13  \n"
     ]
    }
   ],
   "source": [
    "bst.InOrder()"
   ]
  },
  {
   "cell_type": "code",
   "execution_count": 56,
   "metadata": {},
   "outputs": [
    {
     "data": {
      "text/plain": [
       "5"
      ]
     },
     "execution_count": 56,
     "metadata": {},
     "output_type": "execute_result"
    }
   ],
   "source": [
    "bst.get(5)"
   ]
  },
  {
   "cell_type": "code",
   "execution_count": null,
   "metadata": {},
   "outputs": [],
   "source": []
  }
 ],
 "metadata": {
  "kernelspec": {
   "display_name": "Python 3",
   "language": "python",
   "name": "python3"
  },
  "language_info": {
   "codemirror_mode": {
    "name": "ipython",
    "version": 3
   },
   "file_extension": ".py",
   "mimetype": "text/x-python",
   "name": "python",
   "nbconvert_exporter": "python",
   "pygments_lexer": "ipython3",
   "version": "3.7.3"
  }
 },
 "nbformat": 4,
 "nbformat_minor": 4
}
