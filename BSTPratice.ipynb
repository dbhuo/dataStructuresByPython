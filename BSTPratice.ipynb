{
 "cells": [
  {
   "cell_type": "markdown",
   "metadata": {},
   "source": [
    "### Ex1: 返回树的最大最小值"
   ]
  },
  {
   "cell_type": "code",
   "execution_count": 7,
   "metadata": {},
   "outputs": [],
   "source": [
    "from BST import BinarySearchTree\n",
    "from BST import Node\n",
    "class AdvBST1(BinarySearchTree):\n",
    "    def findMin(self):\n",
    "        return self._findMin(self._root)\n",
    "    \n",
    "    def _findMin(self,node):\n",
    "        \"\"\"\n",
    "        找出树中的最大值\n",
    "        Params:\n",
    "            node - 待查找的树\n",
    "        Returns:\n",
    "            返回最小的值\n",
    "        \"\"\"\n",
    "        if node is None:\n",
    "            return None\n",
    "        if node._left is not None:\n",
    "            return self._findMin(node._left)\n",
    "        else:\n",
    "            return node._item\n",
    "    def findMax(self):\n",
    "        return self._findMax(self._root)\n",
    "    def _findMax(self,node):\n",
    "        \"\"\"\n",
    "        找出树中的最大值\n",
    "        Params:\n",
    "            node - 待查找的树\n",
    "        Returns:\n",
    "            返回最小的值\n",
    "        \"\"\"\n",
    "        if node is None:\n",
    "            return None\n",
    "        if node._right is not None:\n",
    "            return self._findMax(node._right)\n",
    "        else:\n",
    "            return node._item"
   ]
  },
  {
   "cell_type": "code",
   "execution_count": 8,
   "metadata": {},
   "outputs": [],
   "source": [
    "bst = AdvBST1()\n",
    "numbers = [6, 4, 8, 7, 9, 2, 1, 3, 5, 13, 11, 10, 12]\n",
    "for i in numbers:\n",
    "    bst.add(i)"
   ]
  },
  {
   "cell_type": "code",
   "execution_count": 9,
   "metadata": {},
   "outputs": [
    {
     "name": "stdout",
     "output_type": "stream",
     "text": [
      "6 4 2 1 3 5 8 7 9 13 11 10 12  \n"
     ]
    }
   ],
   "source": [
    "bst.PreOrder()"
   ]
  },
  {
   "cell_type": "code",
   "execution_count": 10,
   "metadata": {},
   "outputs": [
    {
     "name": "stdout",
     "output_type": "stream",
     "text": [
      "13\n"
     ]
    }
   ],
   "source": [
    "TreeMax = bst.findMax()\n",
    "print(TreeMax)"
   ]
  },
  {
   "cell_type": "markdown",
   "metadata": {},
   "source": [
    "### Ex2:返回树大小"
   ]
  },
  {
   "cell_type": "code",
   "execution_count": 11,
   "metadata": {},
   "outputs": [],
   "source": [
    "class AdvBST2(AdvBST1):\n",
    "    def TreeSize(self):\n",
    "        return self._TreeSize(self._root)\n",
    "    def _TreeSize(self,node):\n",
    "        \"\"\"\n",
    "        求二叉选择树的大小\n",
    "        Params:\n",
    "            node - 待处理的树\n",
    "        Returns:\n",
    "            返回树的size\n",
    "        \"\"\"\n",
    "        if node is None:\n",
    "            return 0   #要使用数值来返回，否则回返回类型不匹配\n",
    "        return self._TreeSize(node._left)+self._TreeSize(node._right) + 1"
   ]
  },
  {
   "cell_type": "code",
   "execution_count": 12,
   "metadata": {},
   "outputs": [
    {
     "name": "stdout",
     "output_type": "stream",
     "text": [
      "13\n"
     ]
    }
   ],
   "source": [
    "bst1 = AdvBST2()\n",
    "numbers = [6, 4, 8, 7, 9, 2, 1, 3, 5, 13, 11, 10, 12]\n",
    "for i in numbers:\n",
    "    bst1.add(i)\n",
    "Treesize = bst1.TreeSize()\n",
    "print(Treesize)"
   ]
  },
  {
   "cell_type": "markdown",
   "metadata": {},
   "source": [
    "### Ex3:返回树的高度"
   ]
  },
  {
   "cell_type": "code",
   "execution_count": 13,
   "metadata": {},
   "outputs": [],
   "source": [
    "class AdvBST3(AdvBST2):\n",
    "    def _MaxDepth(self,node):\n",
    "        \"\"\"\n",
    "        Params:\n",
    "            node - 待查找的节点\n",
    "        Return:\n",
    "            返回树的最大深度 \n",
    "        \"\"\"\n",
    "        if node is None:\n",
    "            return 0\n",
    "        left_depth = self._MaxDepth(node._left)\n",
    "        right_depth = self._MaxDepth(node._right)\n",
    "        return max(left_depth,right_depth)+1\n",
    "    def maxDepth(self):\n",
    "        return self._MaxDepth(self._root)"
   ]
  },
  {
   "cell_type": "code",
   "execution_count": 14,
   "metadata": {},
   "outputs": [
    {
     "name": "stdout",
     "output_type": "stream",
     "text": [
      "6\n"
     ]
    }
   ],
   "source": [
    "bst2 = AdvBST3()\n",
    "numbers = [6, 4, 8, 7, 9, 2, 1, 3, 5, 13, 11, 10, 12]\n",
    "for i in numbers:\n",
    "    bst2.add(i)\n",
    "maxDepth = bst2.maxDepth()\n",
    "print(maxDepth)"
   ]
  },
  {
   "cell_type": "markdown",
   "metadata": {},
   "source": [
    "### Ex4:判断对应的树是不是平衡二叉树"
   ]
  },
  {
   "cell_type": "code",
   "execution_count": 25,
   "metadata": {},
   "outputs": [],
   "source": [
    "class AdvBST4(AdvBST3):\n",
    "    def isBalance(self):\n",
    "        return (self.maxDepth() - self.minDepth()) <=1\n",
    "    def minDepth(self):\n",
    "        return self._minDepth(self._root)\n",
    "    def _minDepth(self,node):\n",
    "        \"\"\"\n",
    "        Params:\n",
    "            node - 待判断的树\n",
    "        Returns:\n",
    "            boolean,如果是返回true,否则为false\n",
    "        \"\"\"\n",
    "        if node is None:\n",
    "            return 0\n",
    "        leftDepth = self._minDepth(node._left)\n",
    "        rightDepth = self._minDepth(node._right)\n",
    "        return min(leftDepth,rightDepth) + 1"
   ]
  },
  {
   "cell_type": "code",
   "execution_count": 27,
   "metadata": {},
   "outputs": [
    {
     "data": {
      "text/plain": [
       "False"
      ]
     },
     "execution_count": 27,
     "metadata": {},
     "output_type": "execute_result"
    }
   ],
   "source": [
    "bst3 = AdvBST4()\n",
    "numbers = [1,2,3,4,5,6,7,8]\n",
    "for i in numbers:\n",
    "    bst3.add(i)\n",
    "bst3.isBalance()"
   ]
  },
  {
   "cell_type": "code",
   "execution_count": 29,
   "metadata": {},
   "outputs": [
    {
     "data": {
      "text/plain": [
       "False"
      ]
     },
     "execution_count": 29,
     "metadata": {},
     "output_type": "execute_result"
    }
   ],
   "source": [
    "bst4 = AdvBST4()\n",
    "numbers = [1,3,5]\n",
    "for i in numbers:\n",
    "    bst4.add(i)\n",
    "bst4.isBalance()"
   ]
  },
  {
   "cell_type": "code",
   "execution_count": null,
   "metadata": {},
   "outputs": [],
   "source": []
  }
 ],
 "metadata": {
  "kernelspec": {
   "display_name": "Python 3",
   "language": "python",
   "name": "python3"
  },
  "language_info": {
   "codemirror_mode": {
    "name": "ipython",
    "version": 3
   },
   "file_extension": ".py",
   "mimetype": "text/x-python",
   "name": "python",
   "nbconvert_exporter": "python",
   "pygments_lexer": "ipython3",
   "version": "3.7.3"
  }
 },
 "nbformat": 4,
 "nbformat_minor": 4
}
